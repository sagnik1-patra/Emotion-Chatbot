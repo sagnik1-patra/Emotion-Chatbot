{
 "cells": [
  {
   "cell_type": "code",
   "execution_count": 1,
   "id": "46e18d2f-43eb-4f26-a950-81da9a7886d0",
   "metadata": {},
   "outputs": [
    {
     "name": "stdout",
     "output_type": "stream",
     "text": [
      "CSV saved to: C:\\Users\\sagni\\Downloads\\Emotion Chatbot\\intents_dataset.csv\n"
     ]
    }
   ],
   "source": [
    "import json\n",
    "import pandas as pd\n",
    "\n",
    "# Load the intents JSON file\n",
    "json_path = r\"C:\\Users\\sagni\\Downloads\\Emotion Chatbot\\intents.json\"\n",
    "with open(json_path, 'r', encoding='utf-8') as f:\n",
    "    data = json.load(f)\n",
    "\n",
    "# Extract intents, patterns, and responses\n",
    "rows = []\n",
    "for intent in data['intents']:\n",
    "    tag = intent.get('tag')\n",
    "    patterns = intent.get('patterns', [])\n",
    "    responses = intent.get('responses', [])\n",
    "    for pattern in patterns:\n",
    "        for response in responses:\n",
    "            rows.append({'intent': tag, 'pattern': pattern, 'response': response})\n",
    "\n",
    "# Create DataFrame\n",
    "df = pd.DataFrame(rows)\n",
    "\n",
    "# Save to CSV\n",
    "output_csv_path = r\"C:\\Users\\sagni\\Downloads\\Emotion Chatbot\\intents_dataset.csv\"\n",
    "df.to_csv(output_csv_path, index=False, encoding='utf-8')\n",
    "\n",
    "print(f\"CSV saved to: {output_csv_path}\")\n"
   ]
  },
  {
   "cell_type": "code",
   "execution_count": 2,
   "id": "e5aecf77-3441-4955-803c-1bea10bfbe77",
   "metadata": {},
   "outputs": [
    {
     "name": "stdout",
     "output_type": "stream",
     "text": [
      "H5 file saved to: C:\\Users\\sagni\\Downloads\\Emotion Chatbot\\intents_dataset.h5\n"
     ]
    }
   ],
   "source": [
    "import pandas as pd\n",
    "\n",
    "# Input and output paths\n",
    "csv_path = r\"C:\\Users\\sagni\\Downloads\\Emotion Chatbot\\intents_dataset.csv\"\n",
    "h5_path = r\"C:\\Users\\sagni\\Downloads\\Emotion Chatbot\\intents_dataset.h5\"\n",
    "\n",
    "# Load CSV\n",
    "df = pd.read_csv(csv_path)\n",
    "\n",
    "# Convert to HDF5 format\n",
    "df.to_hdf(h5_path, key='intents', mode='w', format='table')\n",
    "\n",
    "print(f\"H5 file saved to: {h5_path}\")\n"
   ]
  },
  {
   "cell_type": "code",
   "execution_count": 3,
   "id": "31418f8c-65b4-450e-8d54-b523b381ecbd",
   "metadata": {},
   "outputs": [
    {
     "name": "stdout",
     "output_type": "stream",
     "text": [
      "H5 file saved successfully at: C:\\Users\\sagni\\Downloads\\Emotion Chatbot\\train.h5\n"
     ]
    }
   ],
   "source": [
    "import pandas as pd\n",
    "\n",
    "# Define file paths\n",
    "csv_path = r\"C:\\Users\\sagni\\Downloads\\Emotion Chatbot\\train.csv\"\n",
    "h5_path = r\"C:\\Users\\sagni\\Downloads\\Emotion Chatbot\\train.h5\"\n",
    "\n",
    "# Read the CSV\n",
    "df = pd.read_csv(csv_path)\n",
    "\n",
    "# Save to HDF5\n",
    "df.to_hdf(h5_path, key='train_data', mode='w', format='table')\n",
    "\n",
    "print(f\"H5 file saved successfully at: {h5_path}\")\n"
   ]
  },
  {
   "cell_type": "code",
   "execution_count": null,
   "id": "d79c5faf-d819-4683-b5dc-69a81c81ab55",
   "metadata": {},
   "outputs": [],
   "source": []
  }
 ],
 "metadata": {
  "kernelspec": {
   "display_name": "Python 3.11 (moviepy)",
   "language": "python",
   "name": "py311"
  },
  "language_info": {
   "codemirror_mode": {
    "name": "ipython",
    "version": 3
   },
   "file_extension": ".py",
   "mimetype": "text/x-python",
   "name": "python",
   "nbconvert_exporter": "python",
   "pygments_lexer": "ipython3",
   "version": "3.11.9"
  }
 },
 "nbformat": 4,
 "nbformat_minor": 5
}
