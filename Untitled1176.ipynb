{
 "cells": [
  {
   "cell_type": "code",
   "execution_count": 3,
   "id": "d67b3d96-a641-42a5-84a4-de9a3100e1cc",
   "metadata": {},
   "outputs": [
    {
     "name": "stdout",
     "output_type": "stream",
     "text": [
      "Keys inside the HDF5 file:\n",
      "model_weights\n",
      "model_weights/dense\n",
      "model_weights/dense/sequential\n",
      "model_weights/dense/sequential/dense\n",
      "model_weights/dense/sequential/dense/bias\n",
      "model_weights/dense/sequential/dense/kernel\n",
      "model_weights/dense_1\n",
      "model_weights/dense_1/sequential\n",
      "model_weights/dense_1/sequential/dense_1\n",
      "model_weights/dense_1/sequential/dense_1/bias\n",
      "model_weights/dense_1/sequential/dense_1/kernel\n",
      "model_weights/embedding\n",
      "model_weights/embedding/sequential\n",
      "model_weights/embedding/sequential/embedding\n",
      "model_weights/embedding/sequential/embedding/embeddings\n",
      "model_weights/lstm\n",
      "model_weights/lstm/sequential\n",
      "model_weights/lstm/sequential/lstm\n",
      "model_weights/lstm/sequential/lstm/lstm_cell\n",
      "model_weights/lstm/sequential/lstm/lstm_cell/bias\n",
      "model_weights/lstm/sequential/lstm/lstm_cell/kernel\n",
      "model_weights/lstm/sequential/lstm/lstm_cell/recurrent_kernel\n",
      "model_weights/top_level_model_weights\n",
      "optimizer_weights\n",
      "optimizer_weights/adam\n",
      "optimizer_weights/adam/iteration\n",
      "optimizer_weights/adam/learning_rate\n",
      "optimizer_weights/adam/sequential_dense_1_bias_momentum\n",
      "optimizer_weights/adam/sequential_dense_1_bias_velocity\n",
      "optimizer_weights/adam/sequential_dense_1_kernel_momentum\n",
      "optimizer_weights/adam/sequential_dense_1_kernel_velocity\n",
      "optimizer_weights/adam/sequential_dense_bias_momentum\n",
      "optimizer_weights/adam/sequential_dense_bias_velocity\n",
      "optimizer_weights/adam/sequential_dense_kernel_momentum\n",
      "optimizer_weights/adam/sequential_dense_kernel_velocity\n",
      "optimizer_weights/adam/sequential_embedding_embeddings_momentum\n",
      "optimizer_weights/adam/sequential_embedding_embeddings_velocity\n",
      "optimizer_weights/adam/sequential_lstm_lstm_cell_bias_momentum\n",
      "optimizer_weights/adam/sequential_lstm_lstm_cell_bias_velocity\n",
      "optimizer_weights/adam/sequential_lstm_lstm_cell_kernel_momentum\n",
      "optimizer_weights/adam/sequential_lstm_lstm_cell_kernel_velocity\n",
      "optimizer_weights/adam/sequential_lstm_lstm_cell_recurrent_kernel_momentum\n",
      "optimizer_weights/adam/sequential_lstm_lstm_cell_recurrent_kernel_velocity\n"
     ]
    }
   ],
   "source": [
    "import h5py\n",
    "\n",
    "# Open and inspect the HDF5 file\n",
    "h5_path = r\"C:\\Users\\sagni\\Downloads\\Emotion Chatbot\\train.h5\"\n",
    "with h5py.File(h5_path, 'r') as hdf:\n",
    "    print(\"Keys inside the HDF5 file:\")\n",
    "    hdf.visit(lambda x: print(x))\n"
   ]
  },
  {
   "cell_type": "code",
   "execution_count": 5,
   "id": "fd939e45-cf6f-4883-af1a-ed32a5bc0dc8",
   "metadata": {},
   "outputs": [
    {
     "name": "stderr",
     "output_type": "stream",
     "text": [
      "WARNING:absl:Compiled the loaded model, but the compiled metrics have yet to be built. `model.compile_metrics` will be empty until you train or evaluate the model.\n"
     ]
    },
    {
     "name": "stdout",
     "output_type": "stream",
     "text": [
      "✅ Model loaded successfully!\n"
     ]
    },
    {
     "data": {
      "text/html": [
       "<pre style=\"white-space:pre;overflow-x:auto;line-height:normal;font-family:Menlo,'DejaVu Sans Mono',consolas,'Courier New',monospace\"><span style=\"font-weight: bold\">Model: \"sequential\"</span>\n",
       "</pre>\n"
      ],
      "text/plain": [
       "\u001b[1mModel: \"sequential\"\u001b[0m\n"
      ]
     },
     "metadata": {},
     "output_type": "display_data"
    },
    {
     "data": {
      "text/html": [
       "<pre style=\"white-space:pre;overflow-x:auto;line-height:normal;font-family:Menlo,'DejaVu Sans Mono',consolas,'Courier New',monospace\">┏━━━━━━━━━━━━━━━━━━━━━━━━━━━━━━━━━━━━━━┳━━━━━━━━━━━━━━━━━━━━━━━━━━━━━┳━━━━━━━━━━━━━━━━━┓\n",
       "┃<span style=\"font-weight: bold\"> Layer (type)                         </span>┃<span style=\"font-weight: bold\"> Output Shape                </span>┃<span style=\"font-weight: bold\">         Param # </span>┃\n",
       "┡━━━━━━━━━━━━━━━━━━━━━━━━━━━━━━━━━━━━━━╇━━━━━━━━━━━━━━━━━━━━━━━━━━━━━╇━━━━━━━━━━━━━━━━━┩\n",
       "│ embedding (<span style=\"color: #0087ff; text-decoration-color: #0087ff\">Embedding</span>)                │ (<span style=\"color: #00d7ff; text-decoration-color: #00d7ff\">None</span>, <span style=\"color: #00af00; text-decoration-color: #00af00\">538</span>, <span style=\"color: #00af00; text-decoration-color: #00af00\">64</span>)             │         <span style=\"color: #00af00; text-decoration-color: #00af00\">241,856</span> │\n",
       "├──────────────────────────────────────┼─────────────────────────────┼─────────────────┤\n",
       "│ lstm (<span style=\"color: #0087ff; text-decoration-color: #0087ff\">LSTM</span>)                          │ (<span style=\"color: #00d7ff; text-decoration-color: #00d7ff\">None</span>, <span style=\"color: #00af00; text-decoration-color: #00af00\">64</span>)                  │          <span style=\"color: #00af00; text-decoration-color: #00af00\">33,024</span> │\n",
       "├──────────────────────────────────────┼─────────────────────────────┼─────────────────┤\n",
       "│ dense (<span style=\"color: #0087ff; text-decoration-color: #0087ff\">Dense</span>)                        │ (<span style=\"color: #00d7ff; text-decoration-color: #00d7ff\">None</span>, <span style=\"color: #00af00; text-decoration-color: #00af00\">64</span>)                  │           <span style=\"color: #00af00; text-decoration-color: #00af00\">4,160</span> │\n",
       "├──────────────────────────────────────┼─────────────────────────────┼─────────────────┤\n",
       "│ dense_1 (<span style=\"color: #0087ff; text-decoration-color: #0087ff\">Dense</span>)                      │ (<span style=\"color: #00d7ff; text-decoration-color: #00d7ff\">None</span>, <span style=\"color: #00af00; text-decoration-color: #00af00\">2480</span>)                │         <span style=\"color: #00af00; text-decoration-color: #00af00\">161,200</span> │\n",
       "└──────────────────────────────────────┴─────────────────────────────┴─────────────────┘\n",
       "</pre>\n"
      ],
      "text/plain": [
       "┏━━━━━━━━━━━━━━━━━━━━━━━━━━━━━━━━━━━━━━┳━━━━━━━━━━━━━━━━━━━━━━━━━━━━━┳━━━━━━━━━━━━━━━━━┓\n",
       "┃\u001b[1m \u001b[0m\u001b[1mLayer (type)                        \u001b[0m\u001b[1m \u001b[0m┃\u001b[1m \u001b[0m\u001b[1mOutput Shape               \u001b[0m\u001b[1m \u001b[0m┃\u001b[1m \u001b[0m\u001b[1m        Param #\u001b[0m\u001b[1m \u001b[0m┃\n",
       "┡━━━━━━━━━━━━━━━━━━━━━━━━━━━━━━━━━━━━━━╇━━━━━━━━━━━━━━━━━━━━━━━━━━━━━╇━━━━━━━━━━━━━━━━━┩\n",
       "│ embedding (\u001b[38;5;33mEmbedding\u001b[0m)                │ (\u001b[38;5;45mNone\u001b[0m, \u001b[38;5;34m538\u001b[0m, \u001b[38;5;34m64\u001b[0m)             │         \u001b[38;5;34m241,856\u001b[0m │\n",
       "├──────────────────────────────────────┼─────────────────────────────┼─────────────────┤\n",
       "│ lstm (\u001b[38;5;33mLSTM\u001b[0m)                          │ (\u001b[38;5;45mNone\u001b[0m, \u001b[38;5;34m64\u001b[0m)                  │          \u001b[38;5;34m33,024\u001b[0m │\n",
       "├──────────────────────────────────────┼─────────────────────────────┼─────────────────┤\n",
       "│ dense (\u001b[38;5;33mDense\u001b[0m)                        │ (\u001b[38;5;45mNone\u001b[0m, \u001b[38;5;34m64\u001b[0m)                  │           \u001b[38;5;34m4,160\u001b[0m │\n",
       "├──────────────────────────────────────┼─────────────────────────────┼─────────────────┤\n",
       "│ dense_1 (\u001b[38;5;33mDense\u001b[0m)                      │ (\u001b[38;5;45mNone\u001b[0m, \u001b[38;5;34m2480\u001b[0m)                │         \u001b[38;5;34m161,200\u001b[0m │\n",
       "└──────────────────────────────────────┴─────────────────────────────┴─────────────────┘\n"
      ]
     },
     "metadata": {},
     "output_type": "display_data"
    },
    {
     "data": {
      "text/html": [
       "<pre style=\"white-space:pre;overflow-x:auto;line-height:normal;font-family:Menlo,'DejaVu Sans Mono',consolas,'Courier New',monospace\"><span style=\"font-weight: bold\"> Total params: </span><span style=\"color: #00af00; text-decoration-color: #00af00\">440,242</span> (1.68 MB)\n",
       "</pre>\n"
      ],
      "text/plain": [
       "\u001b[1m Total params: \u001b[0m\u001b[38;5;34m440,242\u001b[0m (1.68 MB)\n"
      ]
     },
     "metadata": {},
     "output_type": "display_data"
    },
    {
     "data": {
      "text/html": [
       "<pre style=\"white-space:pre;overflow-x:auto;line-height:normal;font-family:Menlo,'DejaVu Sans Mono',consolas,'Courier New',monospace\"><span style=\"font-weight: bold\"> Trainable params: </span><span style=\"color: #00af00; text-decoration-color: #00af00\">440,240</span> (1.68 MB)\n",
       "</pre>\n"
      ],
      "text/plain": [
       "\u001b[1m Trainable params: \u001b[0m\u001b[38;5;34m440,240\u001b[0m (1.68 MB)\n"
      ]
     },
     "metadata": {},
     "output_type": "display_data"
    },
    {
     "data": {
      "text/html": [
       "<pre style=\"white-space:pre;overflow-x:auto;line-height:normal;font-family:Menlo,'DejaVu Sans Mono',consolas,'Courier New',monospace\"><span style=\"font-weight: bold\"> Non-trainable params: </span><span style=\"color: #00af00; text-decoration-color: #00af00\">0</span> (0.00 B)\n",
       "</pre>\n"
      ],
      "text/plain": [
       "\u001b[1m Non-trainable params: \u001b[0m\u001b[38;5;34m0\u001b[0m (0.00 B)\n"
      ]
     },
     "metadata": {},
     "output_type": "display_data"
    },
    {
     "data": {
      "text/html": [
       "<pre style=\"white-space:pre;overflow-x:auto;line-height:normal;font-family:Menlo,'DejaVu Sans Mono',consolas,'Courier New',monospace\"><span style=\"font-weight: bold\"> Optimizer params: </span><span style=\"color: #00af00; text-decoration-color: #00af00\">2</span> (12.00 B)\n",
       "</pre>\n"
      ],
      "text/plain": [
       "\u001b[1m Optimizer params: \u001b[0m\u001b[38;5;34m2\u001b[0m (12.00 B)\n"
      ]
     },
     "metadata": {},
     "output_type": "display_data"
    },
    {
     "name": "stdout",
     "output_type": "stream",
     "text": [
      "\u001b[1m1/1\u001b[0m \u001b[32m━━━━━━━━━━━━━━━━━━━━\u001b[0m\u001b[37m\u001b[0m \u001b[1m0s\u001b[0m 344ms/step\n",
      "🧠 Dummy prediction output: [[0.00041047 0.00033213 0.00043937 ... 0.00035265 0.00027843 0.00167277]]\n"
     ]
    }
   ],
   "source": [
    "import os\n",
    "import numpy as np\n",
    "from keras.models import load_model\n",
    "\n",
    "# 1. Load the trained model (.h5) file\n",
    "model_path = r\"C:\\Users\\sagni\\Downloads\\Emotion Chatbot\\train.h5\"\n",
    "\n",
    "if os.path.exists(model_path):\n",
    "    model = load_model(model_path)\n",
    "    print(\"✅ Model loaded successfully!\")\n",
    "else:\n",
    "    print(f\"❌ Model file not found at: {model_path}\")\n",
    "\n",
    "# 2. Show model summary\n",
    "model.summary()\n",
    "\n",
    "# 3. (Optional) Run a dummy prediction\n",
    "# Suppose your model expects a sequence of length 20 (as per earlier Embedding layer)\n",
    "dummy_input = np.random.randint(1, 1000, size=(1, 20))  # Batch size 1, sequence length 20\n",
    "prediction = model.predict(dummy_input)\n",
    "\n",
    "print(\"🧠 Dummy prediction output:\", prediction)\n"
   ]
  },
  {
   "cell_type": "code",
   "execution_count": null,
   "id": "b9efa46f-c274-44c3-a114-78fcdaef481e",
   "metadata": {},
   "outputs": [],
   "source": []
  }
 ],
 "metadata": {
  "kernelspec": {
   "display_name": "Python 3.11 (moviepy)",
   "language": "python",
   "name": "py311"
  },
  "language_info": {
   "codemirror_mode": {
    "name": "ipython",
    "version": 3
   },
   "file_extension": ".py",
   "mimetype": "text/x-python",
   "name": "python",
   "nbconvert_exporter": "python",
   "pygments_lexer": "ipython3",
   "version": "3.11.9"
  }
 },
 "nbformat": 4,
 "nbformat_minor": 5
}
